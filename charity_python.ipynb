{
 "cells": [
  {
   "cell_type": "markdown",
   "metadata": {
    "collapsed": true
   },
   "source": [
    "# Charity data analysis\n",
    "\n",
    "This project was originally developed in R for a machine learning course.\n",
    "Redeveloping in Python3 as a programming exercise.\n",
    "\n",
    "The goal is to maximize the return on investment for a targeted mailing by targeting likely donors.\n",
    "\n",
    "**To do:**\n",
    "* Can x_df and c_df creation be captured in a function (DRY)?\n",
    "* pop vs iloc?\n",
    "* Outlier and influential point detection and management\n",
    "* Missing value handling\n",
    "* Adjustments for non-normal distributions in predictors and target\n",
    "* Logistic regression\n",
    "* GAM\n",
    "* LDA (not usually used for qualitative variables, but use anyway as given method to try)\n",
    "* QDA\n",
    "* KNN classifier\n",
    "* Decision tree\n",
    "* Bagging and random forest\n",
    "* Boosting\n",
    "* SVC"
   ]
  },
  {
   "cell_type": "code",
   "execution_count": 7,
   "metadata": {
    "collapsed": false
   },
   "outputs": [],
   "source": [
    "import numpy as np\n",
    "import pandas as pd\n",
    "import matplotlib.pyplot as plt\n",
    "\n",
    "from sklearn import preprocessing as pp\n",
    "from sklearn.linear_model import LogisticRegressionCV\n",
    "from sklearn.compose import ColumnTransformer\n",
    "\n",
    "%matplotlib inline"
   ]
  },
  {
   "cell_type": "code",
   "execution_count": 2,
   "metadata": {
    "collapsed": false
   },
   "outputs": [],
   "source": [
    "charity = pd.read_csv('charity.csv')"
   ]
  },
  {
   "cell_type": "code",
   "execution_count": 10,
   "metadata": {
    "collapsed": false
   },
   "outputs": [
    {
     "data": {
      "text/html": [
       "<div>\n",
       "<style scoped>\n",
       "    .dataframe tbody tr th:only-of-type {\n",
       "        vertical-align: middle;\n",
       "    }\n",
       "\n",
       "    .dataframe tbody tr th {\n",
       "        vertical-align: top;\n",
       "    }\n",
       "\n",
       "    .dataframe thead th {\n",
       "        text-align: right;\n",
       "    }\n",
       "</style>\n",
       "<table border=\"1\" class=\"dataframe\">\n",
       "  <thead>\n",
       "    <tr style=\"text-align: right;\">\n",
       "      <th></th>\n",
       "      <th>ID</th>\n",
       "      <th>reg1</th>\n",
       "      <th>reg2</th>\n",
       "      <th>reg3</th>\n",
       "      <th>reg4</th>\n",
       "      <th>home</th>\n",
       "      <th>chld</th>\n",
       "      <th>hinc</th>\n",
       "      <th>genf</th>\n",
       "      <th>wrat</th>\n",
       "      <th>...</th>\n",
       "      <th>npro</th>\n",
       "      <th>tgif</th>\n",
       "      <th>lgif</th>\n",
       "      <th>rgif</th>\n",
       "      <th>tdon</th>\n",
       "      <th>tlag</th>\n",
       "      <th>agif</th>\n",
       "      <th>donr</th>\n",
       "      <th>damt</th>\n",
       "      <th>part</th>\n",
       "    </tr>\n",
       "  </thead>\n",
       "  <tbody>\n",
       "    <tr>\n",
       "      <th>0</th>\n",
       "      <td>1</td>\n",
       "      <td>0</td>\n",
       "      <td>0</td>\n",
       "      <td>1</td>\n",
       "      <td>0</td>\n",
       "      <td>1</td>\n",
       "      <td>1</td>\n",
       "      <td>4</td>\n",
       "      <td>1</td>\n",
       "      <td>8</td>\n",
       "      <td>...</td>\n",
       "      <td>20</td>\n",
       "      <td>81</td>\n",
       "      <td>81</td>\n",
       "      <td>19</td>\n",
       "      <td>17</td>\n",
       "      <td>6</td>\n",
       "      <td>21.05</td>\n",
       "      <td>0.0</td>\n",
       "      <td>0.0</td>\n",
       "      <td>train</td>\n",
       "    </tr>\n",
       "    <tr>\n",
       "      <th>1</th>\n",
       "      <td>2</td>\n",
       "      <td>0</td>\n",
       "      <td>0</td>\n",
       "      <td>1</td>\n",
       "      <td>0</td>\n",
       "      <td>1</td>\n",
       "      <td>2</td>\n",
       "      <td>4</td>\n",
       "      <td>0</td>\n",
       "      <td>8</td>\n",
       "      <td>...</td>\n",
       "      <td>95</td>\n",
       "      <td>156</td>\n",
       "      <td>16</td>\n",
       "      <td>17</td>\n",
       "      <td>19</td>\n",
       "      <td>3</td>\n",
       "      <td>13.26</td>\n",
       "      <td>1.0</td>\n",
       "      <td>15.0</td>\n",
       "      <td>train</td>\n",
       "    </tr>\n",
       "    <tr>\n",
       "      <th>2</th>\n",
       "      <td>3</td>\n",
       "      <td>0</td>\n",
       "      <td>0</td>\n",
       "      <td>1</td>\n",
       "      <td>0</td>\n",
       "      <td>1</td>\n",
       "      <td>1</td>\n",
       "      <td>5</td>\n",
       "      <td>1</td>\n",
       "      <td>8</td>\n",
       "      <td>...</td>\n",
       "      <td>64</td>\n",
       "      <td>86</td>\n",
       "      <td>15</td>\n",
       "      <td>10</td>\n",
       "      <td>22</td>\n",
       "      <td>8</td>\n",
       "      <td>17.37</td>\n",
       "      <td>NaN</td>\n",
       "      <td>NaN</td>\n",
       "      <td>test</td>\n",
       "    </tr>\n",
       "    <tr>\n",
       "      <th>3</th>\n",
       "      <td>4</td>\n",
       "      <td>0</td>\n",
       "      <td>0</td>\n",
       "      <td>0</td>\n",
       "      <td>0</td>\n",
       "      <td>1</td>\n",
       "      <td>1</td>\n",
       "      <td>4</td>\n",
       "      <td>0</td>\n",
       "      <td>8</td>\n",
       "      <td>...</td>\n",
       "      <td>51</td>\n",
       "      <td>56</td>\n",
       "      <td>18</td>\n",
       "      <td>7</td>\n",
       "      <td>14</td>\n",
       "      <td>7</td>\n",
       "      <td>9.59</td>\n",
       "      <td>NaN</td>\n",
       "      <td>NaN</td>\n",
       "      <td>test</td>\n",
       "    </tr>\n",
       "    <tr>\n",
       "      <th>4</th>\n",
       "      <td>5</td>\n",
       "      <td>0</td>\n",
       "      <td>0</td>\n",
       "      <td>1</td>\n",
       "      <td>0</td>\n",
       "      <td>1</td>\n",
       "      <td>0</td>\n",
       "      <td>4</td>\n",
       "      <td>1</td>\n",
       "      <td>4</td>\n",
       "      <td>...</td>\n",
       "      <td>85</td>\n",
       "      <td>132</td>\n",
       "      <td>15</td>\n",
       "      <td>10</td>\n",
       "      <td>10</td>\n",
       "      <td>6</td>\n",
       "      <td>12.07</td>\n",
       "      <td>1.0</td>\n",
       "      <td>17.0</td>\n",
       "      <td>valid</td>\n",
       "    </tr>\n",
       "  </tbody>\n",
       "</table>\n",
       "<p>5 rows × 24 columns</p>\n",
       "</div>"
      ],
      "text/plain": [
       "   ID  reg1  reg2  reg3  reg4  home  chld  hinc  genf  wrat  ...    npro  \\\n",
       "0   1     0     0     1     0     1     1     4     1     8  ...      20   \n",
       "1   2     0     0     1     0     1     2     4     0     8  ...      95   \n",
       "2   3     0     0     1     0     1     1     5     1     8  ...      64   \n",
       "3   4     0     0     0     0     1     1     4     0     8  ...      51   \n",
       "4   5     0     0     1     0     1     0     4     1     4  ...      85   \n",
       "\n",
       "   tgif  lgif  rgif  tdon  tlag   agif  donr  damt   part  \n",
       "0    81    81    19    17     6  21.05   0.0   0.0  train  \n",
       "1   156    16    17    19     3  13.26   1.0  15.0  train  \n",
       "2    86    15    10    22     8  17.37   NaN   NaN   test  \n",
       "3    56    18     7    14     7   9.59   NaN   NaN   test  \n",
       "4   132    15    10    10     6  12.07   1.0  17.0  valid  \n",
       "\n",
       "[5 rows x 24 columns]"
      ]
     },
     "execution_count": 10,
     "metadata": {},
     "output_type": "execute_result"
    }
   ],
   "source": [
    "# Pause EDA until environmental issue with pandas_profiling can be worked out.\n",
    "# Work from known facts about the data from previous project version; dataset is the same file from 2016.\n",
    "\n",
    "charity.head(5)"
   ]
  },
  {
   "cell_type": "code",
   "execution_count": 4,
   "metadata": {
    "collapsed": false
   },
   "outputs": [],
   "source": [
    "# Dataset pre-prepared with designations for training/validation/testing split.\n",
    "# Normal response rate is around 10%, and training/validation sets have oversampled donors to address class imbalance.\n",
    "\n",
    "charity_train = charity.loc[charity['part'] == 'train']\n",
    "charity_train = charity_train.drop(columns = ['ID', 'part'])\n",
    "c_train = charity_train.pop('donr').values"
   ]
  },
  {
   "cell_type": "code",
   "execution_count": 17,
   "metadata": {
    "collapsed": false
   },
   "outputs": [
    {
     "data": {
      "text/html": [
       "<div>\n",
       "<style scoped>\n",
       "    .dataframe tbody tr th:only-of-type {\n",
       "        vertical-align: middle;\n",
       "    }\n",
       "\n",
       "    .dataframe tbody tr th {\n",
       "        vertical-align: top;\n",
       "    }\n",
       "\n",
       "    .dataframe thead th {\n",
       "        text-align: right;\n",
       "    }\n",
       "</style>\n",
       "<table border=\"1\" class=\"dataframe\">\n",
       "  <thead>\n",
       "    <tr style=\"text-align: right;\">\n",
       "      <th></th>\n",
       "      <th>reg1</th>\n",
       "      <th>reg2</th>\n",
       "      <th>reg3</th>\n",
       "      <th>reg4</th>\n",
       "      <th>genf</th>\n",
       "      <th>wrat</th>\n",
       "      <th>avhv</th>\n",
       "      <th>inca</th>\n",
       "      <th>plow</th>\n",
       "      <th>npro</th>\n",
       "      <th>lgif</th>\n",
       "      <th>rgif</th>\n",
       "      <th>tdon</th>\n",
       "      <th>tlag</th>\n",
       "      <th>agif</th>\n",
       "      <th>damt</th>\n",
       "      <th>hm_ch_int</th>\n",
       "      <th>incm_tgif_int</th>\n",
       "      <th>hinc_sq</th>\n",
       "    </tr>\n",
       "  </thead>\n",
       "  <tbody>\n",
       "    <tr>\n",
       "      <th>0</th>\n",
       "      <td>0</td>\n",
       "      <td>0</td>\n",
       "      <td>1</td>\n",
       "      <td>0</td>\n",
       "      <td>1</td>\n",
       "      <td>8</td>\n",
       "      <td>302</td>\n",
       "      <td>82</td>\n",
       "      <td>0</td>\n",
       "      <td>20</td>\n",
       "      <td>81</td>\n",
       "      <td>19</td>\n",
       "      <td>17</td>\n",
       "      <td>6</td>\n",
       "      <td>21.05</td>\n",
       "      <td>0.0</td>\n",
       "      <td>1</td>\n",
       "      <td>6156</td>\n",
       "      <td>16</td>\n",
       "    </tr>\n",
       "    <tr>\n",
       "      <th>1</th>\n",
       "      <td>0</td>\n",
       "      <td>0</td>\n",
       "      <td>1</td>\n",
       "      <td>0</td>\n",
       "      <td>0</td>\n",
       "      <td>8</td>\n",
       "      <td>262</td>\n",
       "      <td>130</td>\n",
       "      <td>1</td>\n",
       "      <td>95</td>\n",
       "      <td>16</td>\n",
       "      <td>17</td>\n",
       "      <td>19</td>\n",
       "      <td>3</td>\n",
       "      <td>13.26</td>\n",
       "      <td>15.0</td>\n",
       "      <td>2</td>\n",
       "      <td>20280</td>\n",
       "      <td>16</td>\n",
       "    </tr>\n",
       "    <tr>\n",
       "      <th>5</th>\n",
       "      <td>0</td>\n",
       "      <td>1</td>\n",
       "      <td>0</td>\n",
       "      <td>0</td>\n",
       "      <td>0</td>\n",
       "      <td>9</td>\n",
       "      <td>114</td>\n",
       "      <td>25</td>\n",
       "      <td>44</td>\n",
       "      <td>83</td>\n",
       "      <td>5</td>\n",
       "      <td>3</td>\n",
       "      <td>13</td>\n",
       "      <td>4</td>\n",
       "      <td>4.12</td>\n",
       "      <td>12.0</td>\n",
       "      <td>1</td>\n",
       "      <td>2227</td>\n",
       "      <td>25</td>\n",
       "    </tr>\n",
       "    <tr>\n",
       "      <th>9</th>\n",
       "      <td>0</td>\n",
       "      <td>0</td>\n",
       "      <td>0</td>\n",
       "      <td>0</td>\n",
       "      <td>1</td>\n",
       "      <td>7</td>\n",
       "      <td>200</td>\n",
       "      <td>58</td>\n",
       "      <td>5</td>\n",
       "      <td>42</td>\n",
       "      <td>12</td>\n",
       "      <td>10</td>\n",
       "      <td>19</td>\n",
       "      <td>3</td>\n",
       "      <td>9.42</td>\n",
       "      <td>0.0</td>\n",
       "      <td>3</td>\n",
       "      <td>2394</td>\n",
       "      <td>16</td>\n",
       "    </tr>\n",
       "    <tr>\n",
       "      <th>11</th>\n",
       "      <td>0</td>\n",
       "      <td>0</td>\n",
       "      <td>0</td>\n",
       "      <td>1</td>\n",
       "      <td>1</td>\n",
       "      <td>6</td>\n",
       "      <td>272</td>\n",
       "      <td>69</td>\n",
       "      <td>0</td>\n",
       "      <td>98</td>\n",
       "      <td>29</td>\n",
       "      <td>36</td>\n",
       "      <td>23</td>\n",
       "      <td>7</td>\n",
       "      <td>8.97</td>\n",
       "      <td>17.0</td>\n",
       "      <td>3</td>\n",
       "      <td>11661</td>\n",
       "      <td>16</td>\n",
       "    </tr>\n",
       "  </tbody>\n",
       "</table>\n",
       "</div>"
      ],
      "text/plain": [
       "    reg1  reg2  reg3  reg4  genf  wrat  avhv  inca  plow  npro  lgif  rgif  \\\n",
       "0      0     0     1     0     1     8   302    82     0    20    81    19   \n",
       "1      0     0     1     0     0     8   262   130     1    95    16    17   \n",
       "5      0     1     0     0     0     9   114    25    44    83     5     3   \n",
       "9      0     0     0     0     1     7   200    58     5    42    12    10   \n",
       "11     0     0     0     1     1     6   272    69     0    98    29    36   \n",
       "\n",
       "    tdon  tlag   agif  damt  hm_ch_int  incm_tgif_int  hinc_sq  \n",
       "0     17     6  21.05   0.0          1           6156       16  \n",
       "1     19     3  13.26  15.0          2          20280       16  \n",
       "5     13     4   4.12  12.0          1           2227       25  \n",
       "9     19     3   9.42   0.0          3           2394       16  \n",
       "11    23     7   8.97  17.0          3          11661       16  "
      ]
     },
     "execution_count": 17,
     "metadata": {},
     "output_type": "execute_result"
    }
   ],
   "source": [
    "log_train = charity_train.copy()\n",
    "log_train['hm_ch_int'] = log_train['home'] * log_train['chld']\n",
    "log_train['incm_tgif_int'] = log_train['incm'] * log_train['tgif']\n",
    "log_train['hinc_sq'] = np.square(log_train['hinc'])\n",
    "log_train = log_train.drop(columns = ['home', 'chld', 'hinc', 'incm', 'tgif'])\n",
    "log_train.head()"
   ]
  },
  {
   "cell_type": "code",
   "execution_count": null,
   "metadata": {
    "collapsed": false
   },
   "outputs": [],
   "source": [
    "# TESTING: ColumnTransformer with logistic regression features identified in my course paper\n",
    "# Paper uses log transform to normalize data; sklearn has Box-Cox and Yeo-Johnson transforms.\n",
    "\n",
    "column_trans = ColumnTransformer(\n",
    "    [('incm_bc', pp.PowerTransformer(method='box-cox', standardize=False), ['incm']),\n",
    "    ('tgif_bc', pp.PowerTransformer(method='box-cox', standardize=False), ['tgif'])],\n",
    "    remainder='passthrough')\n",
    "\n",
    "log_train = column_trans.fit_transform(charity_train)"
   ]
  },
  {
   "cell_type": "code",
   "execution_count": null,
   "metadata": {
    "collapsed": false
   },
   "outputs": [],
   "source": [
    "# Select predictive features, dropping ID value and target.\n",
    "# Python handles numbers differently, so cols are 1-21.\n",
    "\n",
    "x_train = charity_train.iloc[:, 1:21]"
   ]
  },
  {
   "cell_type": "code",
   "execution_count": null,
   "metadata": {
    "collapsed": false
   },
   "outputs": [],
   "source": [
    "# Create a label vector to hold donr values\n",
    "\n",
    "c_train = charity_train.iloc[:, 21]"
   ]
  },
  {
   "cell_type": "code",
   "execution_count": null,
   "metadata": {
    "collapsed": false
   },
   "outputs": [],
   "source": [
    "c_train_len = len(c_train)"
   ]
  },
  {
   "cell_type": "code",
   "execution_count": null,
   "metadata": {
    "collapsed": false
   },
   "outputs": [],
   "source": [
    "# Create response variable showing donation amounts for known donors.\n",
    "\n",
    "y_train = charity_train[(charity_train.donr == 1)][['damt']]"
   ]
  },
  {
   "cell_type": "code",
   "execution_count": null,
   "metadata": {
    "collapsed": false
   },
   "outputs": [],
   "source": [
    "y_train_len = len(y_train)"
   ]
  },
  {
   "cell_type": "code",
   "execution_count": null,
   "metadata": {
    "collapsed": true
   },
   "outputs": [],
   "source": [
    "charity_valid = charity.loc[charity['part'] == 'valid']"
   ]
  },
  {
   "cell_type": "code",
   "execution_count": null,
   "metadata": {
    "collapsed": true
   },
   "outputs": [],
   "source": [
    "x_valid = charity_valid.iloc[:, 1:21]"
   ]
  },
  {
   "cell_type": "code",
   "execution_count": null,
   "metadata": {
    "collapsed": true
   },
   "outputs": [],
   "source": [
    "c_valid = charity_valid.iloc[:, 21]"
   ]
  },
  {
   "cell_type": "code",
   "execution_count": null,
   "metadata": {
    "collapsed": false
   },
   "outputs": [],
   "source": [
    "y_valid = charity_valid[(charity_valid.donr == 1)][['damt']]"
   ]
  },
  {
   "cell_type": "code",
   "execution_count": null,
   "metadata": {
    "collapsed": false
   },
   "outputs": [],
   "source": [
    "y_valid_len = len(y_valid)\n",
    "y_valid_len"
   ]
  },
  {
   "cell_type": "code",
   "execution_count": null,
   "metadata": {
    "collapsed": true
   },
   "outputs": [],
   "source": [
    "charity_test = charity.loc[charity['part'] == 'test']"
   ]
  },
  {
   "cell_type": "code",
   "execution_count": null,
   "metadata": {
    "collapsed": true
   },
   "outputs": [],
   "source": [
    "x_test = charity_test.iloc[:, 1:21]"
   ]
  },
  {
   "cell_type": "code",
   "execution_count": null,
   "metadata": {
    "collapsed": true
   },
   "outputs": [],
   "source": [
    "# Standardize features to zero mean and unit standard deviation for algorithms that require standardization.\n",
    "\n",
    "df_list = [x_train, x_test, x_valid]"
   ]
  },
  {
   "cell_type": "code",
   "execution_count": null,
   "metadata": {
    "collapsed": false
   },
   "outputs": [],
   "source": [
    "scaler = preprocessing.StandardScaler()"
   ]
  },
  {
   "cell_type": "code",
   "execution_count": null,
   "metadata": {
    "collapsed": false
   },
   "outputs": [],
   "source": [
    "x_train_std = scaler.fit_transform(x_train[x_train.columns]) # Need to send to dataframe"
   ]
  },
  {
   "cell_type": "code",
   "execution_count": null,
   "metadata": {
    "collapsed": false
   },
   "outputs": [],
   "source": [
    "x_valid_std = scaler.fit_transform(x_valid[x_valid.columns])"
   ]
  },
  {
   "cell_type": "code",
   "execution_count": null,
   "metadata": {
    "collapsed": false
   },
   "outputs": [],
   "source": [
    "x_valid_std = scaler.fit_transform(x_test[x_test.columns])"
   ]
  },
  {
   "cell_type": "code",
   "execution_count": null,
   "metadata": {
    "collapsed": true
   },
   "outputs": [],
   "source": []
  }
 ],
 "metadata": {
  "anaconda-cloud": {},
  "kernelspec": {
   "display_name": "Python [conda root]",
   "language": "python",
   "name": "conda-root-py"
  },
  "language_info": {
   "codemirror_mode": {
    "name": "ipython",
    "version": 3
   },
   "file_extension": ".py",
   "mimetype": "text/x-python",
   "name": "python",
   "nbconvert_exporter": "python",
   "pygments_lexer": "ipython3",
   "version": "3.5.2"
  }
 },
 "nbformat": 4,
 "nbformat_minor": 1
}
