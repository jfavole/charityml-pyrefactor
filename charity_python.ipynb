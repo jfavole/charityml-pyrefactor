{
 "cells": [
  {
   "cell_type": "markdown",
   "metadata": {
    "collapsed": true
   },
   "source": [
    "# Charity data analysis\n",
    "\n",
    "This project was originally developed in R for a machine learning course.\n",
    "Redeveloping in Python3 as a programming exercise.\n",
    "\n",
    "The goal is to maximize the return on investment for a targeted mailing by targeting likely donors.\n",
    "\n",
    "**To do:**\n",
    "* Can x_df and c_df creation be captured in a function (DRY)?\n",
    "* Outlier and influential point detection and management\n",
    "* Missing value handling\n",
    "* Adjustments for non-normal distributions in predictors and target\n",
    "* Logistic regression\n",
    "* GAM\n",
    "* LDA (not usually used for qualitative variables, but use anyway as given method to try)\n",
    "* QDA\n",
    "* KNN classifier\n",
    "* Decision tree\n",
    "* Bagging and random forest\n",
    "* Boosting\n",
    "* SVC"
   ]
  },
  {
   "cell_type": "code",
   "execution_count": 30,
   "metadata": {
    "collapsed": false
   },
   "outputs": [],
   "source": [
    "import numpy as np\n",
    "import pandas as pd\n",
    "\n",
    "from sklearn import preprocessing"
   ]
  },
  {
   "cell_type": "code",
   "execution_count": 3,
   "metadata": {
    "collapsed": false
   },
   "outputs": [],
   "source": [
    "charity = pd.read_csv('charity.csv')"
   ]
  },
  {
   "cell_type": "code",
   "execution_count": 4,
   "metadata": {
    "collapsed": false
   },
   "outputs": [
    {
     "data": {
      "text/html": [
       "<div>\n",
       "<style scoped>\n",
       "    .dataframe tbody tr th:only-of-type {\n",
       "        vertical-align: middle;\n",
       "    }\n",
       "\n",
       "    .dataframe tbody tr th {\n",
       "        vertical-align: top;\n",
       "    }\n",
       "\n",
       "    .dataframe thead th {\n",
       "        text-align: right;\n",
       "    }\n",
       "</style>\n",
       "<table border=\"1\" class=\"dataframe\">\n",
       "  <thead>\n",
       "    <tr style=\"text-align: right;\">\n",
       "      <th></th>\n",
       "      <th>ID</th>\n",
       "      <th>reg1</th>\n",
       "      <th>reg2</th>\n",
       "      <th>reg3</th>\n",
       "      <th>reg4</th>\n",
       "      <th>home</th>\n",
       "      <th>chld</th>\n",
       "      <th>hinc</th>\n",
       "      <th>genf</th>\n",
       "      <th>wrat</th>\n",
       "      <th>...</th>\n",
       "      <th>npro</th>\n",
       "      <th>tgif</th>\n",
       "      <th>lgif</th>\n",
       "      <th>rgif</th>\n",
       "      <th>tdon</th>\n",
       "      <th>tlag</th>\n",
       "      <th>agif</th>\n",
       "      <th>donr</th>\n",
       "      <th>damt</th>\n",
       "      <th>part</th>\n",
       "    </tr>\n",
       "  </thead>\n",
       "  <tbody>\n",
       "    <tr>\n",
       "      <th>0</th>\n",
       "      <td>1</td>\n",
       "      <td>0</td>\n",
       "      <td>0</td>\n",
       "      <td>1</td>\n",
       "      <td>0</td>\n",
       "      <td>1</td>\n",
       "      <td>1</td>\n",
       "      <td>4</td>\n",
       "      <td>1</td>\n",
       "      <td>8</td>\n",
       "      <td>...</td>\n",
       "      <td>20</td>\n",
       "      <td>81</td>\n",
       "      <td>81</td>\n",
       "      <td>19</td>\n",
       "      <td>17</td>\n",
       "      <td>6</td>\n",
       "      <td>21.05</td>\n",
       "      <td>0.0</td>\n",
       "      <td>0.0</td>\n",
       "      <td>train</td>\n",
       "    </tr>\n",
       "    <tr>\n",
       "      <th>1</th>\n",
       "      <td>2</td>\n",
       "      <td>0</td>\n",
       "      <td>0</td>\n",
       "      <td>1</td>\n",
       "      <td>0</td>\n",
       "      <td>1</td>\n",
       "      <td>2</td>\n",
       "      <td>4</td>\n",
       "      <td>0</td>\n",
       "      <td>8</td>\n",
       "      <td>...</td>\n",
       "      <td>95</td>\n",
       "      <td>156</td>\n",
       "      <td>16</td>\n",
       "      <td>17</td>\n",
       "      <td>19</td>\n",
       "      <td>3</td>\n",
       "      <td>13.26</td>\n",
       "      <td>1.0</td>\n",
       "      <td>15.0</td>\n",
       "      <td>train</td>\n",
       "    </tr>\n",
       "    <tr>\n",
       "      <th>2</th>\n",
       "      <td>3</td>\n",
       "      <td>0</td>\n",
       "      <td>0</td>\n",
       "      <td>1</td>\n",
       "      <td>0</td>\n",
       "      <td>1</td>\n",
       "      <td>1</td>\n",
       "      <td>5</td>\n",
       "      <td>1</td>\n",
       "      <td>8</td>\n",
       "      <td>...</td>\n",
       "      <td>64</td>\n",
       "      <td>86</td>\n",
       "      <td>15</td>\n",
       "      <td>10</td>\n",
       "      <td>22</td>\n",
       "      <td>8</td>\n",
       "      <td>17.37</td>\n",
       "      <td>NaN</td>\n",
       "      <td>NaN</td>\n",
       "      <td>test</td>\n",
       "    </tr>\n",
       "    <tr>\n",
       "      <th>3</th>\n",
       "      <td>4</td>\n",
       "      <td>0</td>\n",
       "      <td>0</td>\n",
       "      <td>0</td>\n",
       "      <td>0</td>\n",
       "      <td>1</td>\n",
       "      <td>1</td>\n",
       "      <td>4</td>\n",
       "      <td>0</td>\n",
       "      <td>8</td>\n",
       "      <td>...</td>\n",
       "      <td>51</td>\n",
       "      <td>56</td>\n",
       "      <td>18</td>\n",
       "      <td>7</td>\n",
       "      <td>14</td>\n",
       "      <td>7</td>\n",
       "      <td>9.59</td>\n",
       "      <td>NaN</td>\n",
       "      <td>NaN</td>\n",
       "      <td>test</td>\n",
       "    </tr>\n",
       "    <tr>\n",
       "      <th>4</th>\n",
       "      <td>5</td>\n",
       "      <td>0</td>\n",
       "      <td>0</td>\n",
       "      <td>1</td>\n",
       "      <td>0</td>\n",
       "      <td>1</td>\n",
       "      <td>0</td>\n",
       "      <td>4</td>\n",
       "      <td>1</td>\n",
       "      <td>4</td>\n",
       "      <td>...</td>\n",
       "      <td>85</td>\n",
       "      <td>132</td>\n",
       "      <td>15</td>\n",
       "      <td>10</td>\n",
       "      <td>10</td>\n",
       "      <td>6</td>\n",
       "      <td>12.07</td>\n",
       "      <td>1.0</td>\n",
       "      <td>17.0</td>\n",
       "      <td>valid</td>\n",
       "    </tr>\n",
       "  </tbody>\n",
       "</table>\n",
       "<p>5 rows × 24 columns</p>\n",
       "</div>"
      ],
      "text/plain": [
       "   ID  reg1  reg2  reg3  reg4  home  chld  hinc  genf  wrat  ...    npro  \\\n",
       "0   1     0     0     1     0     1     1     4     1     8  ...      20   \n",
       "1   2     0     0     1     0     1     2     4     0     8  ...      95   \n",
       "2   3     0     0     1     0     1     1     5     1     8  ...      64   \n",
       "3   4     0     0     0     0     1     1     4     0     8  ...      51   \n",
       "4   5     0     0     1     0     1     0     4     1     4  ...      85   \n",
       "\n",
       "   tgif  lgif  rgif  tdon  tlag   agif  donr  damt   part  \n",
       "0    81    81    19    17     6  21.05   0.0   0.0  train  \n",
       "1   156    16    17    19     3  13.26   1.0  15.0  train  \n",
       "2    86    15    10    22     8  17.37   NaN   NaN   test  \n",
       "3    56    18     7    14     7   9.59   NaN   NaN   test  \n",
       "4   132    15    10    10     6  12.07   1.0  17.0  valid  \n",
       "\n",
       "[5 rows x 24 columns]"
      ]
     },
     "execution_count": 4,
     "metadata": {},
     "output_type": "execute_result"
    }
   ],
   "source": [
    "# Pause EDA until environmental issue with pandas_profiling can be worked out.\n",
    "# Work from known facts about the data from previous project version; dataset is the same file from 2016.\n",
    "\n",
    "charity.head(5)"
   ]
  },
  {
   "cell_type": "code",
   "execution_count": 5,
   "metadata": {
    "collapsed": false
   },
   "outputs": [
    {
     "data": {
      "text/plain": [
       "(8009, 24)"
      ]
     },
     "execution_count": 5,
     "metadata": {},
     "output_type": "execute_result"
    }
   ],
   "source": [
    "charity.shape"
   ]
  },
  {
   "cell_type": "code",
   "execution_count": 6,
   "metadata": {
    "collapsed": false
   },
   "outputs": [
    {
     "data": {
      "text/plain": [
       "Index(['ID', 'reg1', 'reg2', 'reg3', 'reg4', 'home', 'chld', 'hinc', 'genf',\n",
       "       'wrat', 'avhv', 'incm', 'inca', 'plow', 'npro', 'tgif', 'lgif', 'rgif',\n",
       "       'tdon', 'tlag', 'agif', 'donr', 'damt', 'part'],\n",
       "      dtype='object')"
      ]
     },
     "execution_count": 6,
     "metadata": {},
     "output_type": "execute_result"
    }
   ],
   "source": [
    "charity.columns"
   ]
  },
  {
   "cell_type": "code",
   "execution_count": 7,
   "metadata": {
    "collapsed": false
   },
   "outputs": [],
   "source": [
    "# Dataset pre-prepared with designations for training/validation/testing split.\n",
    "# Normal response rate is around 10%, and training/validation sets have oversampled donors to address class imbalance.\n",
    "\n",
    "charity_train = charity.loc[charity['part'] == 'train']"
   ]
  },
  {
   "cell_type": "code",
   "execution_count": 8,
   "metadata": {
    "collapsed": false
   },
   "outputs": [
    {
     "data": {
      "text/plain": [
       "(3984, 24)"
      ]
     },
     "execution_count": 8,
     "metadata": {},
     "output_type": "execute_result"
    }
   ],
   "source": [
    "charity_train.shape"
   ]
  },
  {
   "cell_type": "code",
   "execution_count": 9,
   "metadata": {
    "collapsed": false
   },
   "outputs": [],
   "source": [
    "# Select predictive features, dropping ID value and target.\n",
    "# Python handles numbers differently, so cols are 1-21.\n",
    "\n",
    "x_train = charity_train.iloc[:, 1:21]"
   ]
  },
  {
   "cell_type": "code",
   "execution_count": 10,
   "metadata": {
    "collapsed": false
   },
   "outputs": [
    {
     "data": {
      "text/html": [
       "<div>\n",
       "<style scoped>\n",
       "    .dataframe tbody tr th:only-of-type {\n",
       "        vertical-align: middle;\n",
       "    }\n",
       "\n",
       "    .dataframe tbody tr th {\n",
       "        vertical-align: top;\n",
       "    }\n",
       "\n",
       "    .dataframe thead th {\n",
       "        text-align: right;\n",
       "    }\n",
       "</style>\n",
       "<table border=\"1\" class=\"dataframe\">\n",
       "  <thead>\n",
       "    <tr style=\"text-align: right;\">\n",
       "      <th></th>\n",
       "      <th>reg1</th>\n",
       "      <th>reg2</th>\n",
       "      <th>reg3</th>\n",
       "      <th>reg4</th>\n",
       "      <th>home</th>\n",
       "      <th>chld</th>\n",
       "      <th>hinc</th>\n",
       "      <th>genf</th>\n",
       "      <th>wrat</th>\n",
       "      <th>avhv</th>\n",
       "      <th>incm</th>\n",
       "      <th>inca</th>\n",
       "      <th>plow</th>\n",
       "      <th>npro</th>\n",
       "      <th>tgif</th>\n",
       "      <th>lgif</th>\n",
       "      <th>rgif</th>\n",
       "      <th>tdon</th>\n",
       "      <th>tlag</th>\n",
       "      <th>agif</th>\n",
       "    </tr>\n",
       "  </thead>\n",
       "  <tbody>\n",
       "    <tr>\n",
       "      <th>0</th>\n",
       "      <td>0</td>\n",
       "      <td>0</td>\n",
       "      <td>1</td>\n",
       "      <td>0</td>\n",
       "      <td>1</td>\n",
       "      <td>1</td>\n",
       "      <td>4</td>\n",
       "      <td>1</td>\n",
       "      <td>8</td>\n",
       "      <td>302</td>\n",
       "      <td>76</td>\n",
       "      <td>82</td>\n",
       "      <td>0</td>\n",
       "      <td>20</td>\n",
       "      <td>81</td>\n",
       "      <td>81</td>\n",
       "      <td>19</td>\n",
       "      <td>17</td>\n",
       "      <td>6</td>\n",
       "      <td>21.05</td>\n",
       "    </tr>\n",
       "    <tr>\n",
       "      <th>1</th>\n",
       "      <td>0</td>\n",
       "      <td>0</td>\n",
       "      <td>1</td>\n",
       "      <td>0</td>\n",
       "      <td>1</td>\n",
       "      <td>2</td>\n",
       "      <td>4</td>\n",
       "      <td>0</td>\n",
       "      <td>8</td>\n",
       "      <td>262</td>\n",
       "      <td>130</td>\n",
       "      <td>130</td>\n",
       "      <td>1</td>\n",
       "      <td>95</td>\n",
       "      <td>156</td>\n",
       "      <td>16</td>\n",
       "      <td>17</td>\n",
       "      <td>19</td>\n",
       "      <td>3</td>\n",
       "      <td>13.26</td>\n",
       "    </tr>\n",
       "    <tr>\n",
       "      <th>5</th>\n",
       "      <td>0</td>\n",
       "      <td>1</td>\n",
       "      <td>0</td>\n",
       "      <td>0</td>\n",
       "      <td>1</td>\n",
       "      <td>1</td>\n",
       "      <td>5</td>\n",
       "      <td>0</td>\n",
       "      <td>9</td>\n",
       "      <td>114</td>\n",
       "      <td>17</td>\n",
       "      <td>25</td>\n",
       "      <td>44</td>\n",
       "      <td>83</td>\n",
       "      <td>131</td>\n",
       "      <td>5</td>\n",
       "      <td>3</td>\n",
       "      <td>13</td>\n",
       "      <td>4</td>\n",
       "      <td>4.12</td>\n",
       "    </tr>\n",
       "    <tr>\n",
       "      <th>9</th>\n",
       "      <td>0</td>\n",
       "      <td>0</td>\n",
       "      <td>0</td>\n",
       "      <td>0</td>\n",
       "      <td>1</td>\n",
       "      <td>3</td>\n",
       "      <td>4</td>\n",
       "      <td>1</td>\n",
       "      <td>7</td>\n",
       "      <td>200</td>\n",
       "      <td>38</td>\n",
       "      <td>58</td>\n",
       "      <td>5</td>\n",
       "      <td>42</td>\n",
       "      <td>63</td>\n",
       "      <td>12</td>\n",
       "      <td>10</td>\n",
       "      <td>19</td>\n",
       "      <td>3</td>\n",
       "      <td>9.42</td>\n",
       "    </tr>\n",
       "    <tr>\n",
       "      <th>11</th>\n",
       "      <td>0</td>\n",
       "      <td>0</td>\n",
       "      <td>0</td>\n",
       "      <td>1</td>\n",
       "      <td>1</td>\n",
       "      <td>3</td>\n",
       "      <td>4</td>\n",
       "      <td>1</td>\n",
       "      <td>6</td>\n",
       "      <td>272</td>\n",
       "      <td>69</td>\n",
       "      <td>69</td>\n",
       "      <td>0</td>\n",
       "      <td>98</td>\n",
       "      <td>169</td>\n",
       "      <td>29</td>\n",
       "      <td>36</td>\n",
       "      <td>23</td>\n",
       "      <td>7</td>\n",
       "      <td>8.97</td>\n",
       "    </tr>\n",
       "  </tbody>\n",
       "</table>\n",
       "</div>"
      ],
      "text/plain": [
       "    reg1  reg2  reg3  reg4  home  chld  hinc  genf  wrat  avhv  incm  inca  \\\n",
       "0      0     0     1     0     1     1     4     1     8   302    76    82   \n",
       "1      0     0     1     0     1     2     4     0     8   262   130   130   \n",
       "5      0     1     0     0     1     1     5     0     9   114    17    25   \n",
       "9      0     0     0     0     1     3     4     1     7   200    38    58   \n",
       "11     0     0     0     1     1     3     4     1     6   272    69    69   \n",
       "\n",
       "    plow  npro  tgif  lgif  rgif  tdon  tlag   agif  \n",
       "0      0    20    81    81    19    17     6  21.05  \n",
       "1      1    95   156    16    17    19     3  13.26  \n",
       "5     44    83   131     5     3    13     4   4.12  \n",
       "9      5    42    63    12    10    19     3   9.42  \n",
       "11     0    98   169    29    36    23     7   8.97  "
      ]
     },
     "execution_count": 10,
     "metadata": {},
     "output_type": "execute_result"
    }
   ],
   "source": [
    "x_train.head(5)"
   ]
  },
  {
   "cell_type": "code",
   "execution_count": 11,
   "metadata": {
    "collapsed": false
   },
   "outputs": [],
   "source": [
    "# Create a label vector to hold donr values\n",
    "\n",
    "c_train = charity_train.iloc[:, 21]"
   ]
  },
  {
   "cell_type": "code",
   "execution_count": 12,
   "metadata": {
    "collapsed": false
   },
   "outputs": [
    {
     "data": {
      "text/plain": [
       "0     0.0\n",
       "1     1.0\n",
       "5     1.0\n",
       "9     0.0\n",
       "11    1.0\n",
       "12    1.0\n",
       "16    1.0\n",
       "18    1.0\n",
       "23    0.0\n",
       "25    0.0\n",
       "Name: donr, dtype: float64"
      ]
     },
     "execution_count": 12,
     "metadata": {},
     "output_type": "execute_result"
    }
   ],
   "source": [
    "c_train.head(10)"
   ]
  },
  {
   "cell_type": "code",
   "execution_count": 13,
   "metadata": {
    "collapsed": false
   },
   "outputs": [
    {
     "data": {
      "text/plain": [
       "3984"
      ]
     },
     "execution_count": 13,
     "metadata": {},
     "output_type": "execute_result"
    }
   ],
   "source": [
    "c_train_len = len(c_train)\n",
    "c_train_len"
   ]
  },
  {
   "cell_type": "code",
   "execution_count": 14,
   "metadata": {
    "collapsed": false
   },
   "outputs": [],
   "source": [
    "# Create response variable showing donation amounts for known donors.\n",
    "\n",
    "y_train = charity_train[(charity_train.donr == 1)][['damt']]"
   ]
  },
  {
   "cell_type": "code",
   "execution_count": 15,
   "metadata": {
    "collapsed": false
   },
   "outputs": [
    {
     "data": {
      "text/plain": [
       "1995"
      ]
     },
     "execution_count": 15,
     "metadata": {},
     "output_type": "execute_result"
    }
   ],
   "source": [
    "y_train_len = len(y_train)\n",
    "y_train_len"
   ]
  },
  {
   "cell_type": "code",
   "execution_count": 16,
   "metadata": {
    "collapsed": true
   },
   "outputs": [],
   "source": [
    "charity_valid = charity.loc[charity['part'] == 'valid']"
   ]
  },
  {
   "cell_type": "code",
   "execution_count": 17,
   "metadata": {
    "collapsed": false
   },
   "outputs": [
    {
     "data": {
      "text/plain": [
       "(2018, 24)"
      ]
     },
     "execution_count": 17,
     "metadata": {},
     "output_type": "execute_result"
    }
   ],
   "source": [
    "charity_valid.shape"
   ]
  },
  {
   "cell_type": "code",
   "execution_count": 18,
   "metadata": {
    "collapsed": true
   },
   "outputs": [],
   "source": [
    "x_valid = charity_valid.iloc[:, 1:21]"
   ]
  },
  {
   "cell_type": "code",
   "execution_count": 19,
   "metadata": {
    "collapsed": false
   },
   "outputs": [
    {
     "data": {
      "text/html": [
       "<div>\n",
       "<style scoped>\n",
       "    .dataframe tbody tr th:only-of-type {\n",
       "        vertical-align: middle;\n",
       "    }\n",
       "\n",
       "    .dataframe tbody tr th {\n",
       "        vertical-align: top;\n",
       "    }\n",
       "\n",
       "    .dataframe thead th {\n",
       "        text-align: right;\n",
       "    }\n",
       "</style>\n",
       "<table border=\"1\" class=\"dataframe\">\n",
       "  <thead>\n",
       "    <tr style=\"text-align: right;\">\n",
       "      <th></th>\n",
       "      <th>reg1</th>\n",
       "      <th>reg2</th>\n",
       "      <th>reg3</th>\n",
       "      <th>reg4</th>\n",
       "      <th>home</th>\n",
       "      <th>chld</th>\n",
       "      <th>hinc</th>\n",
       "      <th>genf</th>\n",
       "      <th>wrat</th>\n",
       "      <th>avhv</th>\n",
       "      <th>incm</th>\n",
       "      <th>inca</th>\n",
       "      <th>plow</th>\n",
       "      <th>npro</th>\n",
       "      <th>tgif</th>\n",
       "      <th>lgif</th>\n",
       "      <th>rgif</th>\n",
       "      <th>tdon</th>\n",
       "      <th>tlag</th>\n",
       "      <th>agif</th>\n",
       "    </tr>\n",
       "  </thead>\n",
       "  <tbody>\n",
       "    <tr>\n",
       "      <th>4</th>\n",
       "      <td>0</td>\n",
       "      <td>0</td>\n",
       "      <td>1</td>\n",
       "      <td>0</td>\n",
       "      <td>1</td>\n",
       "      <td>0</td>\n",
       "      <td>4</td>\n",
       "      <td>1</td>\n",
       "      <td>4</td>\n",
       "      <td>295</td>\n",
       "      <td>39</td>\n",
       "      <td>71</td>\n",
       "      <td>14</td>\n",
       "      <td>85</td>\n",
       "      <td>132</td>\n",
       "      <td>15</td>\n",
       "      <td>10</td>\n",
       "      <td>10</td>\n",
       "      <td>6</td>\n",
       "      <td>12.07</td>\n",
       "    </tr>\n",
       "    <tr>\n",
       "      <th>6</th>\n",
       "      <td>0</td>\n",
       "      <td>0</td>\n",
       "      <td>0</td>\n",
       "      <td>0</td>\n",
       "      <td>1</td>\n",
       "      <td>3</td>\n",
       "      <td>4</td>\n",
       "      <td>0</td>\n",
       "      <td>8</td>\n",
       "      <td>145</td>\n",
       "      <td>39</td>\n",
       "      <td>42</td>\n",
       "      <td>10</td>\n",
       "      <td>50</td>\n",
       "      <td>74</td>\n",
       "      <td>6</td>\n",
       "      <td>5</td>\n",
       "      <td>22</td>\n",
       "      <td>3</td>\n",
       "      <td>6.50</td>\n",
       "    </tr>\n",
       "    <tr>\n",
       "      <th>7</th>\n",
       "      <td>0</td>\n",
       "      <td>0</td>\n",
       "      <td>0</td>\n",
       "      <td>0</td>\n",
       "      <td>1</td>\n",
       "      <td>3</td>\n",
       "      <td>2</td>\n",
       "      <td>0</td>\n",
       "      <td>5</td>\n",
       "      <td>165</td>\n",
       "      <td>34</td>\n",
       "      <td>35</td>\n",
       "      <td>19</td>\n",
       "      <td>11</td>\n",
       "      <td>41</td>\n",
       "      <td>4</td>\n",
       "      <td>2</td>\n",
       "      <td>20</td>\n",
       "      <td>7</td>\n",
       "      <td>3.45</td>\n",
       "    </tr>\n",
       "    <tr>\n",
       "      <th>10</th>\n",
       "      <td>0</td>\n",
       "      <td>0</td>\n",
       "      <td>1</td>\n",
       "      <td>0</td>\n",
       "      <td>1</td>\n",
       "      <td>3</td>\n",
       "      <td>2</td>\n",
       "      <td>1</td>\n",
       "      <td>8</td>\n",
       "      <td>152</td>\n",
       "      <td>46</td>\n",
       "      <td>46</td>\n",
       "      <td>20</td>\n",
       "      <td>100</td>\n",
       "      <td>414</td>\n",
       "      <td>25</td>\n",
       "      <td>14</td>\n",
       "      <td>39</td>\n",
       "      <td>7</td>\n",
       "      <td>10.12</td>\n",
       "    </tr>\n",
       "    <tr>\n",
       "      <th>13</th>\n",
       "      <td>0</td>\n",
       "      <td>0</td>\n",
       "      <td>0</td>\n",
       "      <td>1</td>\n",
       "      <td>1</td>\n",
       "      <td>0</td>\n",
       "      <td>4</td>\n",
       "      <td>0</td>\n",
       "      <td>8</td>\n",
       "      <td>108</td>\n",
       "      <td>21</td>\n",
       "      <td>36</td>\n",
       "      <td>32</td>\n",
       "      <td>54</td>\n",
       "      <td>117</td>\n",
       "      <td>5</td>\n",
       "      <td>4</td>\n",
       "      <td>15</td>\n",
       "      <td>9</td>\n",
       "      <td>5.11</td>\n",
       "    </tr>\n",
       "  </tbody>\n",
       "</table>\n",
       "</div>"
      ],
      "text/plain": [
       "    reg1  reg2  reg3  reg4  home  chld  hinc  genf  wrat  avhv  incm  inca  \\\n",
       "4      0     0     1     0     1     0     4     1     4   295    39    71   \n",
       "6      0     0     0     0     1     3     4     0     8   145    39    42   \n",
       "7      0     0     0     0     1     3     2     0     5   165    34    35   \n",
       "10     0     0     1     0     1     3     2     1     8   152    46    46   \n",
       "13     0     0     0     1     1     0     4     0     8   108    21    36   \n",
       "\n",
       "    plow  npro  tgif  lgif  rgif  tdon  tlag   agif  \n",
       "4     14    85   132    15    10    10     6  12.07  \n",
       "6     10    50    74     6     5    22     3   6.50  \n",
       "7     19    11    41     4     2    20     7   3.45  \n",
       "10    20   100   414    25    14    39     7  10.12  \n",
       "13    32    54   117     5     4    15     9   5.11  "
      ]
     },
     "execution_count": 19,
     "metadata": {},
     "output_type": "execute_result"
    }
   ],
   "source": [
    "x_valid.head()"
   ]
  },
  {
   "cell_type": "code",
   "execution_count": 20,
   "metadata": {
    "collapsed": true
   },
   "outputs": [],
   "source": [
    "c_valid = charity_valid.iloc[:, 21]"
   ]
  },
  {
   "cell_type": "code",
   "execution_count": 21,
   "metadata": {
    "collapsed": false
   },
   "outputs": [
    {
     "data": {
      "text/plain": [
       "4     1.0\n",
       "6     0.0\n",
       "7     0.0\n",
       "10    0.0\n",
       "13    1.0\n",
       "Name: donr, dtype: float64"
      ]
     },
     "execution_count": 21,
     "metadata": {},
     "output_type": "execute_result"
    }
   ],
   "source": [
    "c_valid.head()"
   ]
  },
  {
   "cell_type": "code",
   "execution_count": 22,
   "metadata": {
    "collapsed": false
   },
   "outputs": [],
   "source": [
    "y_valid = charity_valid[(charity_valid.donr == 1)][['damt']]"
   ]
  },
  {
   "cell_type": "code",
   "execution_count": 26,
   "metadata": {
    "collapsed": false
   },
   "outputs": [
    {
     "data": {
      "text/plain": [
       "999"
      ]
     },
     "execution_count": 26,
     "metadata": {},
     "output_type": "execute_result"
    }
   ],
   "source": [
    "y_valid_len = len(y_valid)\n",
    "y_valid_len"
   ]
  },
  {
   "cell_type": "code",
   "execution_count": 23,
   "metadata": {
    "collapsed": true
   },
   "outputs": [],
   "source": [
    "charity_test = charity.loc[charity['part'] == 'test']"
   ]
  },
  {
   "cell_type": "code",
   "execution_count": 24,
   "metadata": {
    "collapsed": false
   },
   "outputs": [
    {
     "data": {
      "text/plain": [
       "(2007, 24)"
      ]
     },
     "execution_count": 24,
     "metadata": {},
     "output_type": "execute_result"
    }
   ],
   "source": [
    "charity_test.shape"
   ]
  },
  {
   "cell_type": "code",
   "execution_count": 27,
   "metadata": {
    "collapsed": true
   },
   "outputs": [],
   "source": [
    "x_test = charity_test.iloc[:, 1:21]"
   ]
  },
  {
   "cell_type": "code",
   "execution_count": 29,
   "metadata": {
    "collapsed": false
   },
   "outputs": [
    {
     "data": {
      "text/html": [
       "<div>\n",
       "<style scoped>\n",
       "    .dataframe tbody tr th:only-of-type {\n",
       "        vertical-align: middle;\n",
       "    }\n",
       "\n",
       "    .dataframe tbody tr th {\n",
       "        vertical-align: top;\n",
       "    }\n",
       "\n",
       "    .dataframe thead th {\n",
       "        text-align: right;\n",
       "    }\n",
       "</style>\n",
       "<table border=\"1\" class=\"dataframe\">\n",
       "  <thead>\n",
       "    <tr style=\"text-align: right;\">\n",
       "      <th></th>\n",
       "      <th>reg1</th>\n",
       "      <th>reg2</th>\n",
       "      <th>reg3</th>\n",
       "      <th>reg4</th>\n",
       "      <th>home</th>\n",
       "      <th>chld</th>\n",
       "      <th>hinc</th>\n",
       "      <th>genf</th>\n",
       "      <th>wrat</th>\n",
       "      <th>avhv</th>\n",
       "      <th>incm</th>\n",
       "      <th>inca</th>\n",
       "      <th>plow</th>\n",
       "      <th>npro</th>\n",
       "      <th>tgif</th>\n",
       "      <th>lgif</th>\n",
       "      <th>rgif</th>\n",
       "      <th>tdon</th>\n",
       "      <th>tlag</th>\n",
       "      <th>agif</th>\n",
       "    </tr>\n",
       "  </thead>\n",
       "  <tbody>\n",
       "    <tr>\n",
       "      <th>2</th>\n",
       "      <td>0</td>\n",
       "      <td>0</td>\n",
       "      <td>1</td>\n",
       "      <td>0</td>\n",
       "      <td>1</td>\n",
       "      <td>1</td>\n",
       "      <td>5</td>\n",
       "      <td>1</td>\n",
       "      <td>8</td>\n",
       "      <td>303</td>\n",
       "      <td>61</td>\n",
       "      <td>90</td>\n",
       "      <td>6</td>\n",
       "      <td>64</td>\n",
       "      <td>86</td>\n",
       "      <td>15</td>\n",
       "      <td>10</td>\n",
       "      <td>22</td>\n",
       "      <td>8</td>\n",
       "      <td>17.37</td>\n",
       "    </tr>\n",
       "    <tr>\n",
       "      <th>3</th>\n",
       "      <td>0</td>\n",
       "      <td>0</td>\n",
       "      <td>0</td>\n",
       "      <td>0</td>\n",
       "      <td>1</td>\n",
       "      <td>1</td>\n",
       "      <td>4</td>\n",
       "      <td>0</td>\n",
       "      <td>8</td>\n",
       "      <td>317</td>\n",
       "      <td>121</td>\n",
       "      <td>121</td>\n",
       "      <td>0</td>\n",
       "      <td>51</td>\n",
       "      <td>56</td>\n",
       "      <td>18</td>\n",
       "      <td>7</td>\n",
       "      <td>14</td>\n",
       "      <td>7</td>\n",
       "      <td>9.59</td>\n",
       "    </tr>\n",
       "    <tr>\n",
       "      <th>8</th>\n",
       "      <td>0</td>\n",
       "      <td>0</td>\n",
       "      <td>1</td>\n",
       "      <td>0</td>\n",
       "      <td>1</td>\n",
       "      <td>2</td>\n",
       "      <td>3</td>\n",
       "      <td>1</td>\n",
       "      <td>5</td>\n",
       "      <td>194</td>\n",
       "      <td>112</td>\n",
       "      <td>112</td>\n",
       "      <td>0</td>\n",
       "      <td>75</td>\n",
       "      <td>160</td>\n",
       "      <td>28</td>\n",
       "      <td>34</td>\n",
       "      <td>14</td>\n",
       "      <td>4</td>\n",
       "      <td>14.00</td>\n",
       "    </tr>\n",
       "    <tr>\n",
       "      <th>15</th>\n",
       "      <td>1</td>\n",
       "      <td>0</td>\n",
       "      <td>0</td>\n",
       "      <td>0</td>\n",
       "      <td>0</td>\n",
       "      <td>2</td>\n",
       "      <td>3</td>\n",
       "      <td>1</td>\n",
       "      <td>8</td>\n",
       "      <td>127</td>\n",
       "      <td>24</td>\n",
       "      <td>33</td>\n",
       "      <td>15</td>\n",
       "      <td>39</td>\n",
       "      <td>72</td>\n",
       "      <td>5</td>\n",
       "      <td>4</td>\n",
       "      <td>15</td>\n",
       "      <td>9</td>\n",
       "      <td>5.24</td>\n",
       "    </tr>\n",
       "    <tr>\n",
       "      <th>19</th>\n",
       "      <td>0</td>\n",
       "      <td>0</td>\n",
       "      <td>1</td>\n",
       "      <td>0</td>\n",
       "      <td>0</td>\n",
       "      <td>2</td>\n",
       "      <td>4</td>\n",
       "      <td>0</td>\n",
       "      <td>3</td>\n",
       "      <td>137</td>\n",
       "      <td>21</td>\n",
       "      <td>40</td>\n",
       "      <td>17</td>\n",
       "      <td>95</td>\n",
       "      <td>186</td>\n",
       "      <td>32</td>\n",
       "      <td>35</td>\n",
       "      <td>23</td>\n",
       "      <td>28</td>\n",
       "      <td>11.70</td>\n",
       "    </tr>\n",
       "  </tbody>\n",
       "</table>\n",
       "</div>"
      ],
      "text/plain": [
       "    reg1  reg2  reg3  reg4  home  chld  hinc  genf  wrat  avhv  incm  inca  \\\n",
       "2      0     0     1     0     1     1     5     1     8   303    61    90   \n",
       "3      0     0     0     0     1     1     4     0     8   317   121   121   \n",
       "8      0     0     1     0     1     2     3     1     5   194   112   112   \n",
       "15     1     0     0     0     0     2     3     1     8   127    24    33   \n",
       "19     0     0     1     0     0     2     4     0     3   137    21    40   \n",
       "\n",
       "    plow  npro  tgif  lgif  rgif  tdon  tlag   agif  \n",
       "2      6    64    86    15    10    22     8  17.37  \n",
       "3      0    51    56    18     7    14     7   9.59  \n",
       "8      0    75   160    28    34    14     4  14.00  \n",
       "15    15    39    72     5     4    15     9   5.24  \n",
       "19    17    95   186    32    35    23    28  11.70  "
      ]
     },
     "execution_count": 29,
     "metadata": {},
     "output_type": "execute_result"
    }
   ],
   "source": [
    "x_test.head(5)"
   ]
  },
  {
   "cell_type": "code",
   "execution_count": 42,
   "metadata": {
    "collapsed": true
   },
   "outputs": [],
   "source": [
    "# Standardize features to zero mean and unit standard deviation for algorithms that require standardization.\n",
    "\n",
    "df_list = [x_train, x_test, x_valid]"
   ]
  },
  {
   "cell_type": "code",
   "execution_count": 32,
   "metadata": {
    "collapsed": true
   },
   "outputs": [],
   "source": [
    "# Get mean of every column in the predictor feature tables."
   ]
  },
  {
   "cell_type": "code",
   "execution_count": 40,
   "metadata": {
    "collapsed": false
   },
   "outputs": [
    {
     "name": "stdout",
     "output_type": "stream",
     "text": [
      "reg1      0.204819\n",
      "reg2      0.336094\n",
      "reg3      0.123494\n",
      "reg4      0.134789\n",
      "home      0.883283\n",
      "chld      1.577058\n",
      "hinc      3.946285\n",
      "genf      0.604920\n",
      "wrat      7.053213\n",
      "avhv    185.184237\n",
      "incm     44.288404\n",
      "inca     57.135542\n",
      "plow     13.732681\n",
      "npro     61.629267\n",
      "tgif    116.744729\n",
      "lgif     23.193022\n",
      "rgif     15.546687\n",
      "tdon     18.814759\n",
      "tlag      6.301958\n",
      "agif     11.659239\n",
      "dtype: float64\n",
      "reg1      0.197309\n",
      "reg2      0.235177\n",
      "reg3      0.170902\n",
      "reg4      0.160438\n",
      "home      0.812656\n",
      "chld      2.115595\n",
      "hinc      3.817638\n",
      "genf      0.597907\n",
      "wrat      6.587942\n",
      "avhv    178.879920\n",
      "incm     42.054808\n",
      "inca     55.347783\n",
      "plow     15.274539\n",
      "npro     56.074240\n",
      "tgif    104.905830\n",
      "lgif     22.818137\n",
      "rgif     15.685102\n",
      "tdon     19.086198\n",
      "tlag      6.496761\n",
      "agif     11.689616\n",
      "dtype: float64\n",
      "reg1      0.194747\n",
      "reg2      0.368682\n",
      "reg3      0.116947\n",
      "reg4      0.127849\n",
      "home      0.887017\n",
      "chld      1.597621\n",
      "hinc      3.924678\n",
      "genf      0.613479\n",
      "wrat      6.963826\n",
      "avhv    181.380575\n",
      "incm     43.278494\n",
      "inca     56.106046\n",
      "plow     14.185828\n",
      "npro     60.811695\n",
      "tgif    113.933598\n",
      "lgif     22.563429\n",
      "rgif     15.865709\n",
      "tdon     18.738850\n",
      "tlag      6.351338\n",
      "agif     11.714044\n",
      "dtype: float64\n"
     ]
    }
   ],
   "source": [
    "for i in df_list:\n",
    "    print(i.mean(axis=0))"
   ]
  },
  {
   "cell_type": "code",
   "execution_count": 43,
   "metadata": {
    "collapsed": false
   },
   "outputs": [
    {
     "name": "stdout",
     "output_type": "stream",
     "text": [
      "reg1     0.403620\n",
      "reg2     0.472431\n",
      "reg3     0.329045\n",
      "reg4     0.341541\n",
      "home     0.321123\n",
      "chld     1.410511\n",
      "hinc     1.397112\n",
      "genf     0.488929\n",
      "wrat     2.320034\n",
      "avhv    74.700078\n",
      "incm    25.175555\n",
      "inca    25.276045\n",
      "plow    13.093882\n",
      "npro    30.339701\n",
      "tgif    85.459111\n",
      "lgif    31.278131\n",
      "rgif    12.077199\n",
      "tdon     5.582317\n",
      "tlag     3.598049\n",
      "agif     6.411263\n",
      "dtype: float64\n",
      "reg1     0.398067\n",
      "reg2     0.424215\n",
      "reg3     0.376517\n",
      "reg4     0.367104\n",
      "home     0.390285\n",
      "chld     1.289806\n",
      "hinc     1.644238\n",
      "genf     0.490443\n",
      "wrat     2.673886\n",
      "avhv    72.456313\n",
      "incm    24.784213\n",
      "inca    24.744207\n",
      "plow    14.242448\n",
      "npro    30.127131\n",
      "tgif    81.692848\n",
      "lgif    31.547039\n",
      "rgif    12.468045\n",
      "tdon     6.305613\n",
      "tlag     3.881837\n",
      "agif     6.683308\n",
      "dtype: float64\n",
      "reg1     0.396104\n",
      "reg2     0.482567\n",
      "reg3     0.321437\n",
      "reg4     0.334005\n",
      "home     0.316651\n",
      "chld     1.416537\n",
      "hinc     1.411503\n",
      "genf     0.487073\n",
      "wrat     2.351843\n",
      "avhv    68.750639\n",
      "incm    23.614629\n",
      "inca    23.927271\n",
      "plow    13.123934\n",
      "npro    30.236995\n",
      "tgif    88.621205\n",
      "lgif    25.275658\n",
      "rgif    13.083967\n",
      "tdon     5.624834\n",
      "tlag     3.726116\n",
      "agif     6.754371\n",
      "dtype: float64\n"
     ]
    }
   ],
   "source": [
    "# Get standard deviation for every column in feature sets.\n",
    "\n",
    "for i in df_list:\n",
    "    print(i.std(axis=0))"
   ]
  },
  {
   "cell_type": "code",
   "execution_count": 45,
   "metadata": {
    "collapsed": false
   },
   "outputs": [],
   "source": [
    "scaler = preprocessing.StandardScaler()"
   ]
  },
  {
   "cell_type": "code",
   "execution_count": 47,
   "metadata": {
    "collapsed": false
   },
   "outputs": [
    {
     "data": {
      "text/plain": [
       "array([[-0.50751922, -0.71150417,  2.6641248 , ..., -0.32513145,\n",
       "        -0.08393319,  1.4649126 ],\n",
       "       [-0.50751922, -0.71150417,  2.6641248 , ...,  0.03318769,\n",
       "        -0.91782306,  0.2497108 ],\n",
       "       [-0.50751922,  1.40547314, -0.37535779, ..., -1.04176975,\n",
       "        -0.63985977, -1.17608439],\n",
       "       ..., \n",
       "       [ 1.97036873, -0.71150417, -0.37535779, ...,  0.92898556,\n",
       "        -0.08393319,  3.52092797],\n",
       "       [ 1.97036873, -0.71150417, -0.37535779, ...,  1.46646428,\n",
       "         0.1940301 , -0.42730792],\n",
       "       [-0.50751922,  1.40547314, -0.37535779, ...,  0.74982599,\n",
       "        -0.63985977, -1.11680625]])"
      ]
     },
     "execution_count": 47,
     "metadata": {},
     "output_type": "execute_result"
    }
   ],
   "source": [
    "x_train_scl = scaler.fit_transform(x_train[x_train.columns]) # Need to send to dataframe"
   ]
  },
  {
   "cell_type": "code",
   "execution_count": null,
   "metadata": {
    "collapsed": true
   },
   "outputs": [],
   "source": []
  }
 ],
 "metadata": {
  "anaconda-cloud": {},
  "kernelspec": {
   "display_name": "Python [conda root]",
   "language": "python",
   "name": "conda-root-py"
  },
  "language_info": {
   "codemirror_mode": {
    "name": "ipython",
    "version": 3
   },
   "file_extension": ".py",
   "mimetype": "text/x-python",
   "name": "python",
   "nbconvert_exporter": "python",
   "pygments_lexer": "ipython3",
   "version": "3.5.2"
  }
 },
 "nbformat": 4,
 "nbformat_minor": 1
}
