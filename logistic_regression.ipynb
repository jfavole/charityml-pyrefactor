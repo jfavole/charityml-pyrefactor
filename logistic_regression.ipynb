{
 "cells": [
  {
   "cell_type": "code",
   "execution_count": 22,
   "metadata": {
    "collapsed": false
   },
   "outputs": [],
   "source": [
    "import numpy as np\n",
    "import pandas as pd\n",
    "import matplotlib.pyplot as plt\n",
    "\n",
    "from scipy.stats import iqr\n",
    "from sklearn import preprocessing as pp\n",
    "from sklearn.linear_model import SGDClassifier\n",
    "from sklearn.compose import ColumnTransformer\n",
    "from sklearn.metrics import confusion_matrix\n",
    "\n",
    "%matplotlib inline"
   ]
  },
  {
   "cell_type": "code",
   "execution_count": 2,
   "metadata": {
    "collapsed": false
   },
   "outputs": [],
   "source": [
    "charity = pd.read_csv('charity.csv')"
   ]
  },
  {
   "cell_type": "code",
   "execution_count": 3,
   "metadata": {
    "collapsed": false
   },
   "outputs": [
    {
     "data": {
      "text/plain": [
       "(3984, 22)"
      ]
     },
     "execution_count": 3,
     "metadata": {},
     "output_type": "execute_result"
    }
   ],
   "source": [
    "# Dataset pre-prepared with designations for training/validation/testing split.\n",
    "# Normal response rate is around 10%, and training/validation sets have oversampled donors to address class imbalance.\n",
    "\n",
    "charity_train = charity.loc[charity['part'] == 'train']\n",
    "charity_train = charity_train.drop(columns = ['ID', 'part'])\n",
    "charity_train.shape"
   ]
  },
  {
   "cell_type": "code",
   "execution_count": 4,
   "metadata": {
    "collapsed": false
   },
   "outputs": [
    {
     "data": {
      "text/plain": [
       "(3984, 7)"
      ]
     },
     "execution_count": 4,
     "metadata": {},
     "output_type": "execute_result"
    }
   ],
   "source": [
    "charity_train_num = charity_train[['avhv', 'incm', 'inca', 'tgif', 'lgif', 'rgif', 'agif']]\n",
    "charity_train_num.shape"
   ]
  },
  {
   "cell_type": "code",
   "execution_count": 5,
   "metadata": {
    "collapsed": false
   },
   "outputs": [
    {
     "name": "stdout",
     "output_type": "stream",
     "text": [
      "avhv    85.0\n",
      "incm    28.0\n",
      "inca    28.0\n",
      "tgif    78.0\n",
      "lgif    15.0\n",
      "rgif    13.0\n",
      "agif     7.8\n",
      "dtype: float64\n",
      "avhv    219.00\n",
      "incm     55.00\n",
      "inca     68.00\n",
      "tgif    143.00\n",
      "lgif     25.00\n",
      "rgif     20.00\n",
      "agif     14.79\n",
      "Name: 0.75, dtype: float64\n",
      "avhv    134.00\n",
      "incm     27.00\n",
      "inca     40.00\n",
      "tgif     65.00\n",
      "lgif     10.00\n",
      "rgif      7.00\n",
      "agif      6.99\n",
      "Name: 0.25, dtype: float64\n"
     ]
    }
   ],
   "source": [
    "# Find unusual values with IQR method\n",
    "# Code reference: https://towardsdatascience.com/ways-to-detect-and-remove-the-outliers-404d16608dba\n",
    "\n",
    "Q1 = charity_train_num.quantile(0.25)\n",
    "Q3 = charity_train_num.quantile(0.75)\n",
    "IQR = Q3 - Q1\n",
    "print(IQR)\n",
    "print(Q3)\n",
    "print(Q1)"
   ]
  },
  {
   "cell_type": "code",
   "execution_count": 6,
   "metadata": {
    "collapsed": false
   },
   "outputs": [
    {
     "data": {
      "text/plain": [
       "(3171, 7)"
      ]
     },
     "execution_count": 6,
     "metadata": {},
     "output_type": "execute_result"
    }
   ],
   "source": [
    "# Remove outliers from numeric dataframe\n",
    "# Avoid hard-coding relevant values\n",
    "ct_orm = charity_train_num[~((charity_train_num < (Q1 - 1.5 * IQR)) | (charity_train_num > (Q3 + 1.5 * IQR))).any(axis=1)]\n",
    "ct_orm.shape"
   ]
  },
  {
   "cell_type": "code",
   "execution_count": 7,
   "metadata": {
    "collapsed": false
   },
   "outputs": [],
   "source": [
    "# Filter training dataframe by numeric dataframe index to drop outliers\n",
    "\n",
    "ct_dropout = charity_train[charity_train.index.isin(ct_orm.index)]\n",
    "ct_dropout.shape\n",
    "c_train = ct_dropout.pop('donr').values"
   ]
  },
  {
   "cell_type": "code",
   "execution_count": 8,
   "metadata": {
    "collapsed": false
   },
   "outputs": [
    {
     "data": {
      "text/plain": [
       "array([[  4.33722069,   5.47521015,   3.9741291 , ...,  13.        ,\n",
       "          4.        ,  12.        ],\n",
       "       [  6.34412396,   8.03848233,   3.47930707, ...,  19.        ,\n",
       "          3.        ,   0.        ],\n",
       "       [  8.1556214 ,   8.65446248,   4.13903945, ...,  23.        ,\n",
       "          7.        ,  17.        ],\n",
       "       ..., \n",
       "       [  5.52817331,   7.33498763,   3.67752228, ...,  14.        ,\n",
       "          7.        ,   0.        ],\n",
       "       [  7.37420468,   8.65446248,   4.1863403 , ...,  27.        ,\n",
       "          7.        ,   0.        ],\n",
       "       [  8.52320387,   9.57397731,   3.47930707, ...,  23.        ,\n",
       "          4.        ,  12.        ]])"
      ]
     },
     "execution_count": 8,
     "metadata": {},
     "output_type": "execute_result"
    }
   ],
   "source": [
    "# Paper uses log transform to normalize data; sklearn has Box-Cox and Yeo-Johnson transforms.\n",
    "\n",
    "column_trans = ColumnTransformer(\n",
    "    [('incm_bc', pp.PowerTransformer(method='box-cox', standardize=False), ['incm']),\n",
    "     ('inca_bc', pp.PowerTransformer(method='box-cox', standardize=False), ['inca']),\n",
    "    ('tgif_bc', pp.PowerTransformer(method='box-cox', standardize=False), ['tgif']),\n",
    "    ('lgif_bc', pp.PowerTransformer(method='box-cox', standardize=False), ['lgif']),\n",
    "    ('rgif_bc', pp.PowerTransformer(method='box-cox', standardize=False), ['rgif']),\n",
    "    ('agif_bc', pp.PowerTransformer(method='box-cox', standardize=False), ['agif'])],\n",
    "    remainder='passthrough')\n",
    "\n",
    "charity_train_pt = ct_dropout.copy()\n",
    "\n",
    "man_trns = column_trans.fit_transform(charity_train_pt)\n",
    "man_trns"
   ]
  },
  {
   "cell_type": "code",
   "execution_count": 9,
   "metadata": {
    "collapsed": false
   },
   "outputs": [
    {
     "data": {
      "text/plain": [
       "array([[   1.        ,    4.33722069,    5.47521015, ...,   16.        ,\n",
       "          48.        ,  144.        ],\n",
       "       [   1.        ,    6.34412396,    8.03848233, ...,    9.        ,\n",
       "           0.        ,    0.        ],\n",
       "       [   1.        ,    8.1556214 ,    8.65446248, ...,   49.        ,\n",
       "         119.        ,  289.        ],\n",
       "       ..., \n",
       "       [   1.        ,    5.52817331,    7.33498763, ...,   49.        ,\n",
       "           0.        ,    0.        ],\n",
       "       [   1.        ,    7.37420468,    8.65446248, ...,   49.        ,\n",
       "           0.        ,    0.        ],\n",
       "       [   1.        ,    8.52320387,    9.57397731, ...,   16.        ,\n",
       "          48.        ,  144.        ]])"
      ]
     },
     "execution_count": 9,
     "metadata": {},
     "output_type": "execute_result"
    }
   ],
   "source": [
    "# PolynomialFeatures to generate polynomial features and interaction terms\n",
    "\n",
    "poly = pp.PolynomialFeatures(2) # Default value accepted to avoid overfitting\n",
    "poly_trns = poly.fit_transform(man_trns)\n",
    "poly_trns\n"
   ]
  },
  {
   "cell_type": "code",
   "execution_count": 10,
   "metadata": {
    "collapsed": false
   },
   "outputs": [],
   "source": [
    "scaler = pp.StandardScaler().fit(poly_trns)"
   ]
  },
  {
   "cell_type": "code",
   "execution_count": 11,
   "metadata": {
    "collapsed": false
   },
   "outputs": [
    {
     "data": {
      "text/plain": [
       "array([[ 0.        , -1.49901066, -1.83318904, ..., -0.46397672,\n",
       "         0.15741423,  0.41199722],\n",
       "       [ 0.        ,  0.04529147,  0.39321866, ..., -0.5540138 ,\n",
       "        -0.76287405, -0.90775346],\n",
       "       [ 0.        ,  1.43922978,  0.92824689, ..., -0.03951621,\n",
       "         1.51867398,  1.74091284],\n",
       "       ..., \n",
       "       [ 0.        , -0.58257851, -0.21782297, ..., -0.03951621,\n",
       "        -0.76287405, -0.90775346],\n",
       "       [ 0.        ,  0.83793348,  0.92824689, ..., -0.03951621,\n",
       "        -0.76287405, -0.90775346],\n",
       "       [ 0.        ,  1.72208268,  1.72691935, ..., -0.46397672,\n",
       "         0.15741423,  0.41199722]])"
      ]
     },
     "execution_count": 11,
     "metadata": {},
     "output_type": "execute_result"
    }
   ],
   "source": [
    "scaled_train = scaler.transform(poly_trns)\n",
    "scaled_train"
   ]
  },
  {
   "cell_type": "code",
   "execution_count": 15,
   "metadata": {
    "collapsed": false
   },
   "outputs": [],
   "source": [
    "clf = SGDClassifier(max_iter=1000, tol=1e-3)\n",
    "clf.fit(scaled_train, c_train)"
   ]
  },
  {
   "cell_type": "code",
   "execution_count": 24,
   "metadata": {
    "collapsed": false
   },
   "outputs": [],
   "source": [
    "en_preds = clf.predict(scaled_train)"
   ]
  },
  {
   "cell_type": "code",
   "execution_count": 25,
   "metadata": {
    "collapsed": false
   },
   "outputs": [
    {
     "data": {
      "text/plain": [
       "array([[1643,    0],\n",
       "       [   4, 1524]])"
      ]
     },
     "execution_count": 25,
     "metadata": {},
     "output_type": "execute_result"
    }
   ],
   "source": [
    "confusion_matrix(c_train, en_preds)"
   ]
  },
  {
   "cell_type": "code",
   "execution_count": 16,
   "metadata": {
    "collapsed": true
   },
   "outputs": [],
   "source": [
    "charity_valid = charity.loc[charity['part'] == 'valid']"
   ]
  },
  {
   "cell_type": "code",
   "execution_count": 17,
   "metadata": {
    "collapsed": true
   },
   "outputs": [],
   "source": [
    "x_valid = charity_valid.iloc[:, 1:21]"
   ]
  },
  {
   "cell_type": "code",
   "execution_count": 18,
   "metadata": {
    "collapsed": true
   },
   "outputs": [],
   "source": [
    "c_valid = charity_valid.iloc[:, 21]"
   ]
  },
  {
   "cell_type": "code",
   "execution_count": 19,
   "metadata": {
    "collapsed": false
   },
   "outputs": [],
   "source": [
    "y_valid = charity_valid[(charity_valid.donr == 1)][['damt']]"
   ]
  },
  {
   "cell_type": "code",
   "execution_count": 20,
   "metadata": {
    "collapsed": false
   },
   "outputs": [
    {
     "data": {
      "text/plain": [
       "999"
      ]
     },
     "execution_count": 20,
     "metadata": {},
     "output_type": "execute_result"
    }
   ],
   "source": [
    "y_valid_len = len(y_valid)\n",
    "y_valid_len"
   ]
  },
  {
   "cell_type": "code",
   "execution_count": null,
   "metadata": {
    "collapsed": true
   },
   "outputs": [],
   "source": [
    "charity_test = charity.loc[charity['part'] == 'test']"
   ]
  },
  {
   "cell_type": "code",
   "execution_count": null,
   "metadata": {
    "collapsed": true
   },
   "outputs": [],
   "source": [
    "x_test = charity_test.iloc[:, 1:21]"
   ]
  },
  {
   "cell_type": "code",
   "execution_count": null,
   "metadata": {
    "collapsed": true
   },
   "outputs": [],
   "source": [
    "# Standardize features to zero mean and unit standard deviation for algorithms that require standardization.\n",
    "\n",
    "df_list = [x_train, x_test, x_valid]"
   ]
  },
  {
   "cell_type": "code",
   "execution_count": null,
   "metadata": {
    "collapsed": false
   },
   "outputs": [],
   "source": [
    "x_train_std = scaler.fit_transform(x_train[x_train.columns]) # Need to send to dataframe"
   ]
  },
  {
   "cell_type": "code",
   "execution_count": null,
   "metadata": {
    "collapsed": false
   },
   "outputs": [],
   "source": [
    "x_valid_std = scaler.fit_transform(x_valid[x_valid.columns])"
   ]
  },
  {
   "cell_type": "code",
   "execution_count": null,
   "metadata": {
    "collapsed": false
   },
   "outputs": [],
   "source": [
    "x_valid_std = scaler.fit_transform(x_test[x_test.columns])"
   ]
  },
  {
   "cell_type": "code",
   "execution_count": null,
   "metadata": {
    "collapsed": true
   },
   "outputs": [],
   "source": []
  }
 ],
 "metadata": {
  "anaconda-cloud": {},
  "kernelspec": {
   "display_name": "Python [conda root]",
   "language": "python",
   "name": "conda-root-py"
  },
  "language_info": {
   "codemirror_mode": {
    "name": "ipython",
    "version": 3
   },
   "file_extension": ".py",
   "mimetype": "text/x-python",
   "name": "python",
   "nbconvert_exporter": "python",
   "pygments_lexer": "ipython3",
   "version": "3.5.2"
  }
 },
 "nbformat": 4,
 "nbformat_minor": 1
}
